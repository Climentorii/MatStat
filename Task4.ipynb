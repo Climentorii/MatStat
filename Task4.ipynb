{
  "nbformat": 4,
  "nbformat_minor": 0,
  "metadata": {
    "colab": {
      "provenance": []
    },
    "kernelspec": {
      "name": "python3",
      "display_name": "Python 3"
    },
    "language_info": {
      "name": "python"
    }
  },
  "cells": [
    {
      "cell_type": "code",
      "execution_count": 2,
      "metadata": {
        "colab": {
          "base_uri": "https://localhost:8080/"
        },
        "id": "F258baEhtzwe",
        "outputId": "9ccab5f8-347b-4a31-b947-51e6c7ad40e9"
      },
      "outputs": [
        {
          "output_type": "stream",
          "name": "stdout",
          "text": [
            "[5.04310327 5.12832464 5.14738091 5.17177465 5.21864711 5.23385881\n",
            " 5.27446948 5.30382237 5.35873339 5.36365612 5.4427522  5.44390345\n",
            " 5.49719421 5.50238819 5.51433288 5.5321141  5.57063917 5.68695989\n",
            " 5.70656679 5.77341896 5.93497587 6.06217006 6.08407002 6.13427544\n",
            " 6.17042177 6.17963487 6.20866142 6.2359868  6.26547658 6.34145002\n",
            " 6.34433812 6.3875206  6.4678444  6.48986743 6.52707613 6.67514543\n",
            " 6.74677706 6.74745545 6.75070888 6.78749303 6.83345951 6.91416604\n",
            " 6.94438205 6.96705046 7.0694125  7.07484293 7.201586   7.20689593\n",
            " 7.25647648 7.32043354 7.3897418  7.39193382 7.46390218 7.54033127\n",
            " 7.62726289 7.69810234 7.72372701 7.80119712 7.87199936 7.87246691\n",
            " 7.88455779 7.89075485 7.97864383 8.05754616 8.08473019 8.09783384\n",
            " 8.13813596 8.17910143 8.18374147 8.22429239 8.3941211  8.40006552\n",
            " 8.54103003 8.57866953 8.63856032 8.65665237 8.67897523 8.69928215\n",
            " 8.71537094 8.78222652 8.78436816 8.78624871 8.82755273 8.8459448\n",
            " 8.88859736 8.93032541 8.9512678  8.96825574 9.10086171 9.12261477\n",
            " 9.26029445 9.27199885 9.42551685 9.47915323 9.52525001 9.56017588\n",
            " 9.61109449 9.81993837 9.87018444 9.97115608]\n"
          ]
        }
      ],
      "source": [
        "import math\n",
        "import numpy as np\n",
        "import matplotlib.pyplot as plt\n",
        "\n",
        "theta = 5\n",
        "ma = np.random.uniform(theta, 2 * theta, 100)\n",
        "ma.sort()\n",
        "\n",
        "print(ma)"
      ]
    },
    {
      "cell_type": "code",
      "source": [
        "theta_with_wave = 2 / 3 * (np.sum(ma) / 100)\n",
        "print(theta_with_wave)\n"
      ],
      "metadata": {
        "colab": {
          "base_uri": "https://localhost:8080/"
        },
        "id": "ZFsJzngwyAPX",
        "outputId": "6f8f2d89-949d-45bc-830f-b386b9227a47"
      },
      "execution_count": 7,
      "outputs": [
        {
          "output_type": "stream",
          "name": "stdout",
          "text": [
            "4.896199010488506\n"
          ]
        }
      ]
    },
    {
      "cell_type": "code",
      "source": [
        "# Точный доверительный интервал\n",
        "\n",
        "ex_left_border = np.max(ma) / (0.975 ** 0.01 + 1)\n",
        "ex_right_border = np.max(ma) / (0.025 ** 0.01 + 1)\n",
        "\n",
        "print(\"theta = \", theta)\n",
        "print(ex_left_border, \" < theta < \", ex_right_border)\n",
        "print(\"Размах = \", ex_right_border - ex_left_border)"
      ],
      "metadata": {
        "colab": {
          "base_uri": "https://localhost:8080/"
        },
        "id": "QpurCEExyU0_",
        "outputId": "d976e876-3ccb-47de-bd64-3c1aadb8ec5b"
      },
      "execution_count": 18,
      "outputs": [
        {
          "output_type": "stream",
          "name": "stdout",
          "text": [
            "theta =  5\n",
            "4.986209160292551  < theta <  5.077523596504914\n",
            "Размах =  0.09131443621236279\n"
          ]
        }
      ]
    },
    {
      "cell_type": "code",
      "source": [
        "# Асимптотический доверительный интервал\n",
        "ma2 = ma ** 2\n",
        "\n",
        "as_left_border = -1.96 * (2 / 3) / 10 * np.sqrt(0.01 * np.sum(ma2) - (0.01 * np.sum(ma)) ** 2) + theta_with_wave\n",
        "as_right_border = 1.96 * (2 / 3) / 10 * np.sqrt(0.01 * np.sum(ma2) - (0.01 * np.sum(ma)) ** 2) + theta_with_wave\n",
        "\n",
        "print(\"theta = \", theta)\n",
        "print(as_left_border, \" < theta < \", as_right_border)\n",
        "print(\"Размах = \", as_right_border - as_left_border)"
      ],
      "metadata": {
        "colab": {
          "base_uri": "https://localhost:8080/"
        },
        "id": "sNdBmf92y7YD",
        "outputId": "62379a4c-4d38-43c7-f514-6f9977b07402"
      },
      "execution_count": 19,
      "outputs": [
        {
          "output_type": "stream",
          "name": "stdout",
          "text": [
            "theta =  5\n",
            "4.713314492948655  < theta <  5.079083528028358\n",
            "Размах =  0.36576903507970293\n"
          ]
        }
      ]
    },
    {
      "cell_type": "code",
      "source": [
        "def bootstrap_non_par(data, n_bootstrap_samples=1000):\n",
        "    return [np.random.choice(data, size=len(data), replace=True) for _ in range(n_bootstrap_samples)]\n",
        "\n",
        "\n",
        "bootstrap_n_p = bootstrap_non_par(ma)\n",
        "\n",
        "theta_with_wave_for_btstrp_n_p = []\n",
        "for i in bootstrap_n_p:\n",
        "  theta_with_wave_for_btstrp_n_p.append((2 / 3) * 0.01 * np.sum(i) - theta_with_wave)\n",
        "\n",
        "theta_with_wave_for_btstrp_n_p.sort()\n",
        "\n",
        "quantile_theta_1 = theta_with_wave_for_btstrp_n_p[24]\n",
        "quantile_theta_2 = theta_with_wave_for_btstrp_n_p[974]\n",
        "\n",
        "border_theta_1 = min(theta_with_wave - quantile_theta_1, theta_with_wave - quantile_theta_2)\n",
        "border_theta_2 = max(theta_with_wave - quantile_theta_1, theta_with_wave - quantile_theta_2)\n",
        "\n",
        "print(\"theta_with_wave = \", theta_with_wave)\n",
        "print(border_theta_1, \" < \", \"theta\", \" < \", border_theta_2)\n",
        "print(\"Размах = \", border_theta_2 - border_theta_1)"
      ],
      "metadata": {
        "colab": {
          "base_uri": "https://localhost:8080/"
        },
        "id": "C60_9uGtz80x",
        "outputId": "4cd6e294-f1ba-42b3-8e17-f3497a04d860"
      },
      "execution_count": 20,
      "outputs": [
        {
          "output_type": "stream",
          "name": "stdout",
          "text": [
            "theta_with_wave =  4.896199010488506\n",
            "4.721982625329696  <  theta  <  5.080414014442463\n",
            "Размах =  0.3584313891127673\n"
          ]
        }
      ]
    },
    {
      "cell_type": "code",
      "source": [
        "x1 = np.linspace(ex_left_border, ex_right_border, 100)\n",
        "y1 = [1] * 100\n",
        "\n",
        "x2 = np.linspace(as_left_border, as_right_border, 100)\n",
        "y2 = [1.1] * 100\n",
        "\n",
        "x3 = np.linspace(border_theta_1, border_theta_2, 100)\n",
        "y3 = [1.05] * 100\n",
        "\n",
        "plt.plot(x1, y1)\n",
        "plt.plot(x2, y2)\n",
        "plt.plot(x3, y3)\n",
        "\n",
        "plt.show()"
      ],
      "metadata": {
        "colab": {
          "base_uri": "https://localhost:8080/",
          "height": 430
        },
        "id": "NfC-Wdfm0vwx",
        "outputId": "7ea24e8f-0d73-47c9-b029-427c49ceecb6"
      },
      "execution_count": 21,
      "outputs": [
        {
          "output_type": "display_data",
          "data": {
            "text/plain": [
              "<Figure size 640x480 with 1 Axes>"
            ],
            "image/png": "[encoded data removed]"
          },
          "metadata": {}
        }
      ]
    }
  ]
}